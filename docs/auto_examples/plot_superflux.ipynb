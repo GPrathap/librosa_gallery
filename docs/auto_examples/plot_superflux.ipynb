{
  "nbformat_minor": 0,
  "nbformat": 4,
  "metadata": {
    "kernelspec": {
      "name": "python3",
      "language": "python",
      "display_name": "Python 3"
    },
    "language_info": {
      "name": "python",
      "file_extension": ".py",
      "pygments_lexer": "ipython3",
      "codemirror_mode": {
        "name": "ipython",
        "version": 3
      },
      "mimetype": "text/x-python",
      "nbconvert_exporter": "python",
      "version": "3.5.1"
    }
  },
  "cells": [
    {
      "cell_type": "code",
      "metadata": {
        "collapsed": false
      },
      "outputs": [],
      "execution_count": null,
      "source": [
        "%matplotlib inline"
      ]
    },
    {
      "cell_type": "markdown",
      "source": [
        "\n# Superflux onsets\n\n\nThis notebook demonstrates how to recover the Superflux onset detection algorithm of \n`Boeck and Widmer, 2013 <http://dafx13.nuim.ie/papers/09.dafx2013_submission_12.pdf>`_ \nfrom librosa.\n\nThis algorithm improves onset detection accuracy in the presence of vibrato.\n\n"
      ],
      "metadata": {}
    },
    {
      "cell_type": "code",
      "metadata": {
        "collapsed": false
      },
      "outputs": [],
      "execution_count": null,
      "source": [
        "# Code source: Brian McFee\n# License: ISC"
      ]
    },
    {
      "cell_type": "markdown",
      "source": [
        "We'll need numpy and matplotlib for this example \n\n"
      ],
      "metadata": {}
    },
    {
      "cell_type": "code",
      "metadata": {
        "collapsed": false
      },
      "outputs": [],
      "execution_count": null,
      "source": [
        "from __future__ import print_function\nimport numpy as np\nimport matplotlib.pyplot as plt\nimport matplotlib.style as style\nstyle.use('seaborn-muted')\n\nimport librosa"
      ]
    },
    {
      "cell_type": "markdown",
      "source": [
        "We'll load in a five-second clip of a track that has\nnoticeable vocal vibrato.\nThe method works fine for longer signals, but the \nresults are harder to visualize.\n\n"
      ],
      "metadata": {}
    },
    {
      "cell_type": "code",
      "metadata": {
        "collapsed": false
      },
      "outputs": [],
      "execution_count": null,
      "source": [
        "y, sr = librosa.load('audio/Karissa_Hobbs_-_09_-_Lets_Go_Fishin.mp3',\n                     sr=44100,\n                     duration=5,\n                     offset=35)"
      ]
    },
    {
      "cell_type": "markdown",
      "source": [
        "These parameters are taken directly from the paper\n\n"
      ],
      "metadata": {}
    },
    {
      "cell_type": "code",
      "metadata": {
        "collapsed": false
      },
      "outputs": [],
      "execution_count": null,
      "source": [
        "n_fft = 1024\nhop_length = int(librosa.time_to_samples(1./200, sr=sr))\nlag = 2\nn_mels = 138\nfmin = 27.5\nfmax = 16000.\nmax_size = 3"
      ]
    },
    {
      "cell_type": "markdown",
      "source": [
        "The paper uses a log-frequency representation, but for\nsimplicity, we'll use a Mel spectrogram instead.\n\n"
      ],
      "metadata": {}
    },
    {
      "cell_type": "code",
      "metadata": {
        "collapsed": false
      },
      "outputs": [],
      "execution_count": null,
      "source": [
        "S = librosa.feature.melspectrogram(y, sr=sr, n_fft=n_fft,\n                                   hop_length=hop_length,\n                                   fmin=fmin,\n                                   fmax=fmax,\n                                   n_mels=n_mels)\n\n\nplt.figure(figsize=(6, 4))\nlibrosa.display.specshow(librosa.logamplitude(S, ref_power=np.max),\n                         y_axis='mel', x_axis='time', sr=sr,\n                         hop_length=hop_length, fmin=fmin, fmax=fmax)\nplt.tight_layout()"
      ]
    },
    {
      "cell_type": "markdown",
      "source": [
        "Now we'll compute the onset strength envelope and onset events\nusing the librosa defaults.\n\n"
      ],
      "metadata": {}
    },
    {
      "cell_type": "code",
      "metadata": {
        "collapsed": false
      },
      "outputs": [],
      "execution_count": null,
      "source": [
        "odf_default = librosa.onset.onset_strength(y=y, sr=sr)\nonset_default = librosa.onset.onset_detect(y=y, sr=sr)"
      ]
    },
    {
      "cell_type": "markdown",
      "source": [
        "And similarly with the superflux method\n\n"
      ],
      "metadata": {}
    },
    {
      "cell_type": "code",
      "metadata": {
        "collapsed": false
      },
      "outputs": [],
      "execution_count": null,
      "source": [
        "odf_sf = librosa.onset.onset_strength(S=librosa.logamplitude(S), sr=sr,\n                                      hop_length=hop_length,\n                                      lag=lag, max_size=max_size)\n\nonset_sf = librosa.onset.onset_detect(onset_envelope=odf_sf,\n                                      sr=sr,\n                                      hop_length=hop_length)"
      ]
    },
    {
      "cell_type": "markdown",
      "source": [
        "If you look carefully, the default onset detector (top sub-plot) has\nseveral false positives in high-vibrato regions, eg around 0.62s or\n1.80s. \n\nThe superflux method (middle plot) is less susceptible to vibrato, and\ndoes not detect onset events at those points.\n\n"
      ],
      "metadata": {}
    },
    {
      "cell_type": "code",
      "metadata": {
        "collapsed": false
      },
      "outputs": [],
      "execution_count": null,
      "source": [
        "#sphinx_gallery_thumbnail_number = 2\nplt.figure(figsize=(6, 6))\n\nplt.subplot(2,1,2)\nlibrosa.display.specshow(librosa.logamplitude(S, top_db=50, ref_power=np.max),\n                         y_axis='mel', x_axis='time', sr=sr,\n                         hop_length=hop_length, fmin=fmin, fmax=fmax,\n                         n_xticks=9)\n\nplt.subplot(4,1,1)\nplt.plot(odf_default, label='Spectral flux')\nplt.vlines(onset_default, 0, odf_default.max(), color='r', label='Onsets')\nplt.yticks([])\nplt.xticks([])\nplt.axis('tight')\nplt.legend()\n\n\nplt.subplot(4,1,2)\nplt.plot(odf_sf, color='g', label='Superflux')\nplt.vlines(onset_sf, 0, odf_sf.max(), color='r', label='Onsets')\nplt.xticks([])\nplt.yticks([])\nplt.legend()\nplt.axis('tight')\n\nplt.tight_layout()\nplt.show()"
      ]
    }
  ]
}