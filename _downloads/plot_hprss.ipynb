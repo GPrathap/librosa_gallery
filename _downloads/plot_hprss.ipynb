{
  "metadata": {
    "language_info": {
      "version": "3.5.3",
      "codemirror_mode": {
        "version": 3,
        "name": "ipython"
      },
      "mimetype": "text/x-python",
      "pygments_lexer": "ipython3",
      "name": "python",
      "file_extension": ".py",
      "nbconvert_exporter": "python"
    },
    "kernelspec": {
      "name": "python3",
      "language": "python",
      "display_name": "Python 3"
    }
  },
  "cells": [
    {
      "execution_count": null,
      "outputs": [],
      "metadata": {
        "collapsed": false
      },
      "cell_type": "code",
      "source": [
        "%matplotlib inline"
      ]
    },
    {
      "metadata": {},
      "cell_type": "markdown",
      "source": [
        "\n# Harmonic-percussive source separation\n\n\nThis notebook illustrates how to separate an audio signal into\nits harmonic and percussive components.\n\nWe'll compare the original median-filtering based approach of `Fitzgerald, 2010 <http://arrow.dit.ie/cgi/viewcontent.cgi?article=1078&context=argcon>`_\nand its margin-based extension due to `Dreidger, Mueller and Disch, 2014\n<http://www.terasoft.com.tw/conf/ismir2014/proceedings/T110_127_Paper.pdf>`_.\n\n\n\n"
      ]
    },
    {
      "execution_count": null,
      "outputs": [],
      "metadata": {
        "collapsed": false
      },
      "cell_type": "code",
      "source": [
        "from __future__ import print_function\nimport numpy as np\nimport matplotlib.pyplot as plt\n\nimport librosa\nimport librosa.display"
      ]
    },
    {
      "metadata": {},
      "cell_type": "markdown",
      "source": [
        "Load the example clip.\n\n"
      ]
    },
    {
      "execution_count": null,
      "outputs": [],
      "metadata": {
        "collapsed": false
      },
      "cell_type": "code",
      "source": [
        "y, sr = librosa.load('audio/Karissa_Hobbs_-_09_-_Lets_Go_Fishin.mp3', offset=40, duration=10)"
      ]
    },
    {
      "metadata": {},
      "cell_type": "markdown",
      "source": [
        "Compute the short-time Fourier transform of y\n\n"
      ]
    },
    {
      "execution_count": null,
      "outputs": [],
      "metadata": {
        "collapsed": false
      },
      "cell_type": "code",
      "source": [
        "D = librosa.stft(y)"
      ]
    },
    {
      "metadata": {},
      "cell_type": "markdown",
      "source": [
        "Decompose D into harmonic and percussive components\n\n$D = D_\\text{harmonic} + D_\\text{percussive}$\n\n"
      ]
    },
    {
      "execution_count": null,
      "outputs": [],
      "metadata": {
        "collapsed": false
      },
      "cell_type": "code",
      "source": [
        "D_harmonic, D_percussive = librosa.decompose.hpss(D)"
      ]
    },
    {
      "metadata": {},
      "cell_type": "markdown",
      "source": [
        "We can plot the two components along with the original spectrogram\n\n"
      ]
    },
    {
      "execution_count": null,
      "outputs": [],
      "metadata": {
        "collapsed": false
      },
      "cell_type": "code",
      "source": [
        "# Pre-compute a global reference power from the input spectrum\nrp = np.max(np.abs(D))\n\nplt.figure(figsize=(12, 8))\n\nplt.subplot(3,1,1)\nlibrosa.display.specshow(librosa.amplitude_to_db(D, ref=rp), y_axis='log')\nplt.colorbar()\nplt.title('Full spectrogram')\n\nplt.subplot(3,1,2)\nlibrosa.display.specshow(librosa.amplitude_to_db(D_harmonic, ref=rp), y_axis='log')\nplt.colorbar()\nplt.title('Harmonic spectrogram')\n\nplt.subplot(3,1,3)\nlibrosa.display.specshow(librosa.amplitude_to_db(D_percussive, ref=rp), y_axis='log', x_axis='time')\nplt.colorbar()\nplt.title('Percussive spectrogram')\nplt.tight_layout()"
      ]
    },
    {
      "metadata": {},
      "cell_type": "markdown",
      "source": [
        "The default HPSS above assigns energy to each time-frequency bin according to \nwhether a horizontal (harmonic) or vertical (percussive) filter responds higher\nat that position.\n\nThis assumes that all energy belongs to either a harmonic or percussive source,\nbut does not handle \"noise\" well.  Noise energy ends up getting spread between\nD_harmonic and D_percussive.\n\nIf we instead require that the horizontal filter responds more than the vertical\nfilter *by at least some margin*, and vice versa, then noise can be removed\nfrom both components.\n\nNote: the default (above) corresponds to margin=1\n\n"
      ]
    },
    {
      "execution_count": null,
      "outputs": [],
      "metadata": {
        "collapsed": false
      },
      "cell_type": "code",
      "source": [
        "# Let's compute separations for a few different margins and compare the results below\nD_harmonic2, D_percussive2 = librosa.decompose.hpss(D, margin=2)\nD_harmonic4, D_percussive4 = librosa.decompose.hpss(D, margin=4)\nD_harmonic8, D_percussive8 = librosa.decompose.hpss(D, margin=8)\nD_harmonic16, D_percussive16 = librosa.decompose.hpss(D, margin=16)"
      ]
    },
    {
      "metadata": {},
      "cell_type": "markdown",
      "source": [
        "In the plots below, note that vibrato has been suppressed from the harmonic\ncomponents, and vocals have been suppressed in the percussive components.\n\n"
      ]
    },
    {
      "execution_count": null,
      "outputs": [],
      "metadata": {
        "collapsed": false
      },
      "cell_type": "code",
      "source": [
        "plt.figure(figsize=(10, 10))\n\nplt.subplot(5,2,1)\nlibrosa.display.specshow(librosa.amplitude_to_db(D_harmonic, ref=rp), y_axis='log')\nplt.title('Harmonic')\nplt.yticks([])\nplt.ylabel('margin=1')\n\nplt.subplot(5,2,2)\nlibrosa.display.specshow(librosa.amplitude_to_db(D_percussive, ref=rp), y_axis='log')\nplt.title('Percussive')\nplt.yticks([]) ,plt.ylabel('')\n\nplt.subplot(5,2,3)\nlibrosa.display.specshow(librosa.amplitude_to_db(D_harmonic2, ref=rp), y_axis='log')\nplt.yticks([])\nplt.ylabel('margin=2')\n\nplt.subplot(5,2,4)\nlibrosa.display.specshow(librosa.amplitude_to_db(D_percussive2, ref=rp), y_axis='log')\nplt.yticks([]) ,plt.ylabel('')\n\nplt.subplot(5,2,5)\nlibrosa.display.specshow(librosa.amplitude_to_db(D_harmonic4, ref=rp), y_axis='log')\nplt.yticks([])\nplt.ylabel('margin=4')\n\nplt.subplot(5,2,6)\nlibrosa.display.specshow(librosa.amplitude_to_db(D_percussive4, ref=rp), y_axis='log')\nplt.yticks([]) ,plt.ylabel('')\n\nplt.subplot(5,2,7)\nlibrosa.display.specshow(librosa.amplitude_to_db(D_harmonic8, ref=rp), y_axis='log')\nplt.yticks([])\nplt.ylabel('margin=8')\n\nplt.subplot(5,2,8)\nlibrosa.display.specshow(librosa.amplitude_to_db(D_percussive8, ref=rp), y_axis='log')\nplt.yticks([]) ,plt.ylabel('')\n\nplt.subplot(5,2,9)\nlibrosa.display.specshow(librosa.amplitude_to_db(D_harmonic16, ref=rp), y_axis='log')\nplt.yticks([])\nplt.ylabel('margin=16')\n\nplt.subplot(5,2,10)\nlibrosa.display.specshow(librosa.amplitude_to_db(D_percussive16, ref=rp), y_axis='log')\nplt.yticks([]) ,plt.ylabel('')\n\nplt.tight_layout()\nplt.show()"
      ]
    }
  ],
  "nbformat_minor": 0,
  "nbformat": 4
}